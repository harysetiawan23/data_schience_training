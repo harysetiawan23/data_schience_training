{
 "metadata": {
  "language_info": {
   "codemirror_mode": {
    "name": "ipython",
    "version": 3
   },
   "file_extension": ".py",
   "mimetype": "text/x-python",
   "name": "python",
   "nbconvert_exporter": "python",
   "pygments_lexer": "ipython3",
   "version": "3.7.0"
  },
  "orig_nbformat": 4,
  "kernelspec": {
   "name": "python3",
   "display_name": "Python 3.7.0 64-bit ('env': venv)"
  },
  "interpreter": {
   "hash": "d2df04d74ab66f16fed4ee8a22cafa81d215184cdaa1c41530fed2bdaa365eba"
  }
 },
 "nbformat": 4,
 "nbformat_minor": 2,
 "cells": [
  {
   "cell_type": "code",
   "execution_count": 51,
   "metadata": {},
   "outputs": [
    {
     "output_type": "execute_result",
     "data": {
      "text/plain": [
       "              id                    address    city state  zipcode   latitude  \\\n",
       "0       39525749            8171 E 84th Ave  Denver    CO    80022  39.849160   \n",
       "1      184578398          10556 Wheeling St  Denver    CO    80022  39.888020   \n",
       "2      184430015        3190 Wadsworth Blvd  Denver    CO    80033  39.761710   \n",
       "3      155129946        3040 Wadsworth Blvd  Denver    CO    80033  39.760780   \n",
       "4         245107            5615 S Eaton St  Denver    CO    80123  39.616181   \n",
       "...          ...                        ...     ...   ...      ...        ...   \n",
       "14995   51411356              802 S High St  Denver    CO    80209  39.701902   \n",
       "14996   21721153           214 S Lincoln St  Denver    CO    80209  39.712608   \n",
       "14997   12995320              870 S Race St  Denver    CO    80209  39.700736   \n",
       "14998   39611615         130 S Lafayette St  Denver    CO    80209  39.714088   \n",
       "14999   42961679  100 S University Blvd # 1  Denver    CO    80209  39.714399   \n",
       "\n",
       "        longitude  bedrooms  bathrooms  rooms  squareFootage  lotSize  \\\n",
       "0     -104.893468         3        2.0      6           1378     9968   \n",
       "1     -104.830930         2        2.0      6           1653     6970   \n",
       "2     -105.081070         3        1.0      0           1882    23875   \n",
       "3     -105.081060         4        3.0      0           2400    11500   \n",
       "4     -105.058812         3        4.0      8           2305     5600   \n",
       "...           ...       ...        ...    ...            ...      ...   \n",
       "14995 -104.964871         4        4.0      8           2169     4950   \n",
       "14996 -104.986000         3        3.0     11           2937     4500   \n",
       "14997 -104.963707         3        5.0      7           2937     4680   \n",
       "14998 -104.970701         3        4.0     10           3193     4970   \n",
       "14999 -104.958955         3        5.0      9           3193     4364   \n",
       "\n",
       "       yearBuilt lastSaleDate  lastSaleAmount priorSaleDate  priorSaleAmount  \\\n",
       "0         2003.0   2009-12-17           75000    2004-05-13         165700.0   \n",
       "1         2004.0   2004-09-23          216935           NaN              NaN   \n",
       "2         1917.0   2008-04-03          330000           NaN              NaN   \n",
       "3         1956.0   2008-12-02          185000    2008-06-27              0.0   \n",
       "4         1998.0   2012-07-18          308000    2011-12-29              0.0   \n",
       "...          ...          ...             ...           ...              ...   \n",
       "14995     1922.0   2000-08-24          333000           NaN              NaN   \n",
       "14996     1890.0   2015-03-05          645000    2012-07-23         557500.0   \n",
       "14997     2007.0   2012-01-17         1115000    2008-07-15        1208214.0   \n",
       "14998     2005.0   2011-08-10         1350000    2004-12-07         405000.0   \n",
       "14999     2001.0   2014-05-29          960000    2003-07-11         925000.0   \n",
       "\n",
       "       estimated_value  \n",
       "0               239753  \n",
       "1               343963  \n",
       "2               488840  \n",
       "3               494073  \n",
       "4               513676  \n",
       "...                ...  \n",
       "14995          1080081  \n",
       "14996           807306  \n",
       "14997          1737156  \n",
       "14998          2008794  \n",
       "14999          1421401  \n",
       "\n",
       "[15000 rows x 18 columns]"
      ],
      "text/html": "<div>\n<style scoped>\n    .dataframe tbody tr th:only-of-type {\n        vertical-align: middle;\n    }\n\n    .dataframe tbody tr th {\n        vertical-align: top;\n    }\n\n    .dataframe thead th {\n        text-align: right;\n    }\n</style>\n<table border=\"1\" class=\"dataframe\">\n  <thead>\n    <tr style=\"text-align: right;\">\n      <th></th>\n      <th>id</th>\n      <th>address</th>\n      <th>city</th>\n      <th>state</th>\n      <th>zipcode</th>\n      <th>latitude</th>\n      <th>longitude</th>\n      <th>bedrooms</th>\n      <th>bathrooms</th>\n      <th>rooms</th>\n      <th>squareFootage</th>\n      <th>lotSize</th>\n      <th>yearBuilt</th>\n      <th>lastSaleDate</th>\n      <th>lastSaleAmount</th>\n      <th>priorSaleDate</th>\n      <th>priorSaleAmount</th>\n      <th>estimated_value</th>\n    </tr>\n  </thead>\n  <tbody>\n    <tr>\n      <th>0</th>\n      <td>39525749</td>\n      <td>8171 E 84th Ave</td>\n      <td>Denver</td>\n      <td>CO</td>\n      <td>80022</td>\n      <td>39.849160</td>\n      <td>-104.893468</td>\n      <td>3</td>\n      <td>2.0</td>\n      <td>6</td>\n      <td>1378</td>\n      <td>9968</td>\n      <td>2003.0</td>\n      <td>2009-12-17</td>\n      <td>75000</td>\n      <td>2004-05-13</td>\n      <td>165700.0</td>\n      <td>239753</td>\n    </tr>\n    <tr>\n      <th>1</th>\n      <td>184578398</td>\n      <td>10556 Wheeling St</td>\n      <td>Denver</td>\n      <td>CO</td>\n      <td>80022</td>\n      <td>39.888020</td>\n      <td>-104.830930</td>\n      <td>2</td>\n      <td>2.0</td>\n      <td>6</td>\n      <td>1653</td>\n      <td>6970</td>\n      <td>2004.0</td>\n      <td>2004-09-23</td>\n      <td>216935</td>\n      <td>NaN</td>\n      <td>NaN</td>\n      <td>343963</td>\n    </tr>\n    <tr>\n      <th>2</th>\n      <td>184430015</td>\n      <td>3190 Wadsworth Blvd</td>\n      <td>Denver</td>\n      <td>CO</td>\n      <td>80033</td>\n      <td>39.761710</td>\n      <td>-105.081070</td>\n      <td>3</td>\n      <td>1.0</td>\n      <td>0</td>\n      <td>1882</td>\n      <td>23875</td>\n      <td>1917.0</td>\n      <td>2008-04-03</td>\n      <td>330000</td>\n      <td>NaN</td>\n      <td>NaN</td>\n      <td>488840</td>\n    </tr>\n    <tr>\n      <th>3</th>\n      <td>155129946</td>\n      <td>3040 Wadsworth Blvd</td>\n      <td>Denver</td>\n      <td>CO</td>\n      <td>80033</td>\n      <td>39.760780</td>\n      <td>-105.081060</td>\n      <td>4</td>\n      <td>3.0</td>\n      <td>0</td>\n      <td>2400</td>\n      <td>11500</td>\n      <td>1956.0</td>\n      <td>2008-12-02</td>\n      <td>185000</td>\n      <td>2008-06-27</td>\n      <td>0.0</td>\n      <td>494073</td>\n    </tr>\n    <tr>\n      <th>4</th>\n      <td>245107</td>\n      <td>5615 S Eaton St</td>\n      <td>Denver</td>\n      <td>CO</td>\n      <td>80123</td>\n      <td>39.616181</td>\n      <td>-105.058812</td>\n      <td>3</td>\n      <td>4.0</td>\n      <td>8</td>\n      <td>2305</td>\n      <td>5600</td>\n      <td>1998.0</td>\n      <td>2012-07-18</td>\n      <td>308000</td>\n      <td>2011-12-29</td>\n      <td>0.0</td>\n      <td>513676</td>\n    </tr>\n    <tr>\n      <th>...</th>\n      <td>...</td>\n      <td>...</td>\n      <td>...</td>\n      <td>...</td>\n      <td>...</td>\n      <td>...</td>\n      <td>...</td>\n      <td>...</td>\n      <td>...</td>\n      <td>...</td>\n      <td>...</td>\n      <td>...</td>\n      <td>...</td>\n      <td>...</td>\n      <td>...</td>\n      <td>...</td>\n      <td>...</td>\n      <td>...</td>\n    </tr>\n    <tr>\n      <th>14995</th>\n      <td>51411356</td>\n      <td>802 S High St</td>\n      <td>Denver</td>\n      <td>CO</td>\n      <td>80209</td>\n      <td>39.701902</td>\n      <td>-104.964871</td>\n      <td>4</td>\n      <td>4.0</td>\n      <td>8</td>\n      <td>2169</td>\n      <td>4950</td>\n      <td>1922.0</td>\n      <td>2000-08-24</td>\n      <td>333000</td>\n      <td>NaN</td>\n      <td>NaN</td>\n      <td>1080081</td>\n    </tr>\n    <tr>\n      <th>14996</th>\n      <td>21721153</td>\n      <td>214 S Lincoln St</td>\n      <td>Denver</td>\n      <td>CO</td>\n      <td>80209</td>\n      <td>39.712608</td>\n      <td>-104.986000</td>\n      <td>3</td>\n      <td>3.0</td>\n      <td>11</td>\n      <td>2937</td>\n      <td>4500</td>\n      <td>1890.0</td>\n      <td>2015-03-05</td>\n      <td>645000</td>\n      <td>2012-07-23</td>\n      <td>557500.0</td>\n      <td>807306</td>\n    </tr>\n    <tr>\n      <th>14997</th>\n      <td>12995320</td>\n      <td>870 S Race St</td>\n      <td>Denver</td>\n      <td>CO</td>\n      <td>80209</td>\n      <td>39.700736</td>\n      <td>-104.963707</td>\n      <td>3</td>\n      <td>5.0</td>\n      <td>7</td>\n      <td>2937</td>\n      <td>4680</td>\n      <td>2007.0</td>\n      <td>2012-01-17</td>\n      <td>1115000</td>\n      <td>2008-07-15</td>\n      <td>1208214.0</td>\n      <td>1737156</td>\n    </tr>\n    <tr>\n      <th>14998</th>\n      <td>39611615</td>\n      <td>130 S Lafayette St</td>\n      <td>Denver</td>\n      <td>CO</td>\n      <td>80209</td>\n      <td>39.714088</td>\n      <td>-104.970701</td>\n      <td>3</td>\n      <td>4.0</td>\n      <td>10</td>\n      <td>3193</td>\n      <td>4970</td>\n      <td>2005.0</td>\n      <td>2011-08-10</td>\n      <td>1350000</td>\n      <td>2004-12-07</td>\n      <td>405000.0</td>\n      <td>2008794</td>\n    </tr>\n    <tr>\n      <th>14999</th>\n      <td>42961679</td>\n      <td>100 S University Blvd # 1</td>\n      <td>Denver</td>\n      <td>CO</td>\n      <td>80209</td>\n      <td>39.714399</td>\n      <td>-104.958955</td>\n      <td>3</td>\n      <td>5.0</td>\n      <td>9</td>\n      <td>3193</td>\n      <td>4364</td>\n      <td>2001.0</td>\n      <td>2014-05-29</td>\n      <td>960000</td>\n      <td>2003-07-11</td>\n      <td>925000.0</td>\n      <td>1421401</td>\n    </tr>\n  </tbody>\n</table>\n<p>15000 rows × 18 columns</p>\n</div>"
     },
     "metadata": {},
     "execution_count": 51
    }
   ],
   "source": [
    "# Import Pandas Library\n",
    "import pandas as pd \n",
    "\n",
    "# Load Datasets\n",
    "df = pd.read_csv('../../datasets/single_family_home_values.csv')\n",
    "df"
   ]
  },
  {
   "cell_type": "code",
   "execution_count": 12,
   "metadata": {},
   "outputs": [
    {
     "output_type": "stream",
     "name": "stdout",
     "text": [
      "<class 'pandas.core.frame.DataFrame'>\n",
      "RangeIndex: 15000 entries, 0 to 14999\n",
      "Data columns (total 7 columns):\n",
      " #   Column           Non-Null Count  Dtype  \n",
      "---  ------           --------------  -----  \n",
      " 0   bedrooms         15000 non-null  int64  \n",
      " 1   bathrooms        15000 non-null  float64\n",
      " 2   rooms            15000 non-null  int64  \n",
      " 3   squareFootage    15000 non-null  int64  \n",
      " 4   lotSize          15000 non-null  int64  \n",
      " 5   yearBuilt        15000 non-null  float64\n",
      " 6   priorSaleAmount  15000 non-null  float64\n",
      "dtypes: float64(3), int64(4)\n",
      "memory usage: 820.4 KB\n",
      "/Users/harysetiawan/Documents/Work/study/env/lib/python3.7/site-packages/pandas/core/frame.py:4327: SettingWithCopyWarning: \n",
      "A value is trying to be set on a copy of a slice from a DataFrame\n",
      "\n",
      "See the caveats in the documentation: https://pandas.pydata.org/pandas-docs/stable/user_guide/indexing.html#returning-a-view-versus-a-copy\n",
      "  downcast=downcast,\n"
     ]
    },
    {
     "output_type": "execute_result",
     "data": {
      "text/plain": [
       "   bedrooms  bathrooms  rooms  squareFootage  lotSize  yearBuilt  \\\n",
       "0         3        2.0      6           1378     9968     2003.0   \n",
       "1         2        2.0      6           1653     6970     2004.0   \n",
       "2         3        1.0      0           1882    23875     1917.0   \n",
       "3         4        3.0      0           2400    11500     1956.0   \n",
       "4         3        4.0      8           2305     5600     1998.0   \n",
       "\n",
       "   priorSaleAmount  \n",
       "0         165700.0  \n",
       "1              0.0  \n",
       "2              0.0  \n",
       "3              0.0  \n",
       "4              0.0  "
      ],
      "text/html": "<div>\n<style scoped>\n    .dataframe tbody tr th:only-of-type {\n        vertical-align: middle;\n    }\n\n    .dataframe tbody tr th {\n        vertical-align: top;\n    }\n\n    .dataframe thead th {\n        text-align: right;\n    }\n</style>\n<table border=\"1\" class=\"dataframe\">\n  <thead>\n    <tr style=\"text-align: right;\">\n      <th></th>\n      <th>bedrooms</th>\n      <th>bathrooms</th>\n      <th>rooms</th>\n      <th>squareFootage</th>\n      <th>lotSize</th>\n      <th>yearBuilt</th>\n      <th>priorSaleAmount</th>\n    </tr>\n  </thead>\n  <tbody>\n    <tr>\n      <th>0</th>\n      <td>3</td>\n      <td>2.0</td>\n      <td>6</td>\n      <td>1378</td>\n      <td>9968</td>\n      <td>2003.0</td>\n      <td>165700.0</td>\n    </tr>\n    <tr>\n      <th>1</th>\n      <td>2</td>\n      <td>2.0</td>\n      <td>6</td>\n      <td>1653</td>\n      <td>6970</td>\n      <td>2004.0</td>\n      <td>0.0</td>\n    </tr>\n    <tr>\n      <th>2</th>\n      <td>3</td>\n      <td>1.0</td>\n      <td>0</td>\n      <td>1882</td>\n      <td>23875</td>\n      <td>1917.0</td>\n      <td>0.0</td>\n    </tr>\n    <tr>\n      <th>3</th>\n      <td>4</td>\n      <td>3.0</td>\n      <td>0</td>\n      <td>2400</td>\n      <td>11500</td>\n      <td>1956.0</td>\n      <td>0.0</td>\n    </tr>\n    <tr>\n      <th>4</th>\n      <td>3</td>\n      <td>4.0</td>\n      <td>8</td>\n      <td>2305</td>\n      <td>5600</td>\n      <td>1998.0</td>\n      <td>0.0</td>\n    </tr>\n  </tbody>\n</table>\n</div>"
     },
     "metadata": {},
     "execution_count": 12
    }
   ],
   "source": [
    "# Extract Feature \n",
    "# In this moment we will make a cluster based on number of 'bedrooms','bathrooms','rooms','squareFootage','lotSize','yearBuilt','priorSaleAmount'\n",
    "\n",
    "X = df[['bedrooms','bathrooms','rooms','squareFootage','lotSize','yearBuilt','priorSaleAmount']]\n",
    "\n",
    "# Fill Missing Value, use inplace so we not re enitiate\n",
    "X.fillna(0,inplace=True)\n",
    "X.info()\n",
    "X.head(5)"
   ]
  },
  {
   "cell_type": "code",
   "execution_count": 13,
   "metadata": {},
   "outputs": [],
   "source": [
    "# Import sklearn clustering\n",
    "from sklearn.cluster import KMeans"
   ]
  },
  {
   "cell_type": "code",
   "execution_count": 24,
   "metadata": {},
   "outputs": [
    {
     "output_type": "stream",
     "name": "stdout",
     "text": [
      "cluster = 3 with score = 0.6145561996874052\n",
      "cluster = 4 with score = 0.6168589127153601\n",
      "cluster = 5 with score = 0.6328560399129648\n",
      "cluster = 6 with score = 0.643438596521382\n",
      "cluster = 7 with score = 0.6577290412370432\n",
      "cluster = 8 with score = 0.660940918441709\n",
      "cluster = 9 with score = 0.6569805944461118\n",
      "cluster = 10 with score = 0.656917962508508\n"
     ]
    }
   ],
   "source": [
    "# Define the best number of cluster\n",
    "# We need to try and error to know how many cluster is the best\n",
    "# One of the method is using shilluete scores,\n",
    "# We can test it by using iteration\n",
    "from sklearn.metrics import silhouette_score\n",
    "\n",
    "min_cluster = 3\n",
    "max_cluster = 11\n",
    "\n",
    "for i in  range(min_cluster,max_cluster):\n",
    "    kmeans = KMeans(n_clusters=i,random_state=0).fit(X=X)\n",
    "    print('cluster = {} with score = {}'.format(i,silhouette_score(X=X,labels=kmeans.labels_)))\n",
    "\n",
    "# Choose the best score to start clustering in this case, is 8"
   ]
  },
  {
   "cell_type": "code",
   "execution_count": 26,
   "metadata": {},
   "outputs": [
    {
     "output_type": "execute_result",
     "data": {
      "text/plain": [
       "KMeans(random_state=0)"
      ]
     },
     "metadata": {},
     "execution_count": 26
    }
   ],
   "source": [
    "# Re create the cluster\n",
    "kmeans = KMeans(n_clusters=8,random_state=0).fit(X)\n",
    "kmeans"
   ]
  },
  {
   "cell_type": "code",
   "execution_count": 33,
   "metadata": {},
   "outputs": [
    {
     "output_type": "stream",
     "name": "stderr",
     "text": [
      "/Users/harysetiawan/Documents/Work/study/env/lib/python3.7/site-packages/ipykernel_launcher.py:6: SettingWithCopyWarning: \nA value is trying to be set on a copy of a slice from a DataFrame.\nTry using .loc[row_indexer,col_indexer] = value instead\n\nSee the caveats in the documentation: https://pandas.pydata.org/pandas-docs/stable/user_guide/indexing.html#returning-a-view-versus-a-copy\n  \n"
     ]
    },
    {
     "output_type": "execute_result",
     "data": {
      "text/plain": [
       "       bedrooms  bathrooms  rooms  squareFootage  lotSize  yearBuilt  \\\n",
       "0             3        2.0      6           1378     9968     2003.0   \n",
       "1             2        2.0      6           1653     6970     2004.0   \n",
       "2             3        1.0      0           1882    23875     1917.0   \n",
       "3             4        3.0      0           2400    11500     1956.0   \n",
       "4             3        4.0      8           2305     5600     1998.0   \n",
       "...         ...        ...    ...            ...      ...        ...   \n",
       "14995         4        4.0      8           2169     4950     1922.0   \n",
       "14996         3        3.0     11           2937     4500     1890.0   \n",
       "14997         3        5.0      7           2937     4680     2007.0   \n",
       "14998         3        4.0     10           3193     4970     2005.0   \n",
       "14999         3        5.0      9           3193     4364     2001.0   \n",
       "\n",
       "       priorSaleAmount  cluster  \n",
       "0             165700.0        7  \n",
       "1                  0.0        0  \n",
       "2                  0.0        0  \n",
       "3                  0.0        0  \n",
       "4                  0.0        0  \n",
       "...                ...      ...  \n",
       "14995              0.0        0  \n",
       "14996         557500.0        1  \n",
       "14997        1208214.0        6  \n",
       "14998         405000.0        4  \n",
       "14999         925000.0        6  \n",
       "\n",
       "[15000 rows x 8 columns]"
      ],
      "text/html": "<div>\n<style scoped>\n    .dataframe tbody tr th:only-of-type {\n        vertical-align: middle;\n    }\n\n    .dataframe tbody tr th {\n        vertical-align: top;\n    }\n\n    .dataframe thead th {\n        text-align: right;\n    }\n</style>\n<table border=\"1\" class=\"dataframe\">\n  <thead>\n    <tr style=\"text-align: right;\">\n      <th></th>\n      <th>bedrooms</th>\n      <th>bathrooms</th>\n      <th>rooms</th>\n      <th>squareFootage</th>\n      <th>lotSize</th>\n      <th>yearBuilt</th>\n      <th>priorSaleAmount</th>\n      <th>cluster</th>\n    </tr>\n  </thead>\n  <tbody>\n    <tr>\n      <th>0</th>\n      <td>3</td>\n      <td>2.0</td>\n      <td>6</td>\n      <td>1378</td>\n      <td>9968</td>\n      <td>2003.0</td>\n      <td>165700.0</td>\n      <td>7</td>\n    </tr>\n    <tr>\n      <th>1</th>\n      <td>2</td>\n      <td>2.0</td>\n      <td>6</td>\n      <td>1653</td>\n      <td>6970</td>\n      <td>2004.0</td>\n      <td>0.0</td>\n      <td>0</td>\n    </tr>\n    <tr>\n      <th>2</th>\n      <td>3</td>\n      <td>1.0</td>\n      <td>0</td>\n      <td>1882</td>\n      <td>23875</td>\n      <td>1917.0</td>\n      <td>0.0</td>\n      <td>0</td>\n    </tr>\n    <tr>\n      <th>3</th>\n      <td>4</td>\n      <td>3.0</td>\n      <td>0</td>\n      <td>2400</td>\n      <td>11500</td>\n      <td>1956.0</td>\n      <td>0.0</td>\n      <td>0</td>\n    </tr>\n    <tr>\n      <th>4</th>\n      <td>3</td>\n      <td>4.0</td>\n      <td>8</td>\n      <td>2305</td>\n      <td>5600</td>\n      <td>1998.0</td>\n      <td>0.0</td>\n      <td>0</td>\n    </tr>\n    <tr>\n      <th>...</th>\n      <td>...</td>\n      <td>...</td>\n      <td>...</td>\n      <td>...</td>\n      <td>...</td>\n      <td>...</td>\n      <td>...</td>\n      <td>...</td>\n    </tr>\n    <tr>\n      <th>14995</th>\n      <td>4</td>\n      <td>4.0</td>\n      <td>8</td>\n      <td>2169</td>\n      <td>4950</td>\n      <td>1922.0</td>\n      <td>0.0</td>\n      <td>0</td>\n    </tr>\n    <tr>\n      <th>14996</th>\n      <td>3</td>\n      <td>3.0</td>\n      <td>11</td>\n      <td>2937</td>\n      <td>4500</td>\n      <td>1890.0</td>\n      <td>557500.0</td>\n      <td>1</td>\n    </tr>\n    <tr>\n      <th>14997</th>\n      <td>3</td>\n      <td>5.0</td>\n      <td>7</td>\n      <td>2937</td>\n      <td>4680</td>\n      <td>2007.0</td>\n      <td>1208214.0</td>\n      <td>6</td>\n    </tr>\n    <tr>\n      <th>14998</th>\n      <td>3</td>\n      <td>4.0</td>\n      <td>10</td>\n      <td>3193</td>\n      <td>4970</td>\n      <td>2005.0</td>\n      <td>405000.0</td>\n      <td>4</td>\n    </tr>\n    <tr>\n      <th>14999</th>\n      <td>3</td>\n      <td>5.0</td>\n      <td>9</td>\n      <td>3193</td>\n      <td>4364</td>\n      <td>2001.0</td>\n      <td>925000.0</td>\n      <td>6</td>\n    </tr>\n  </tbody>\n</table>\n<p>15000 rows × 8 columns</p>\n</div>"
     },
     "metadata": {},
     "execution_count": 33
    }
   ],
   "source": [
    "# Show the cluster labels\n",
    "kmeans.labels_\n",
    "\n",
    "# assign label to the cluster\n",
    "labels = kmeans.labels_\n",
    "X['cluster'] = labels\n",
    "X"
   ]
  },
  {
   "cell_type": "code",
   "execution_count": 39,
   "metadata": {},
   "outputs": [
    {
     "output_type": "execute_result",
     "data": {
      "text/plain": [
       "   cluster  bedrooms  bathrooms      rooms  squareFootage       lotSize  \\\n",
       "0        0  2.685397   2.011271   6.013721    1470.267070   6038.964064   \n",
       "1        1  3.056401   3.148612   7.534467    2103.851388   6023.485228   \n",
       "2        2  3.520000   5.666667  10.333333    4426.133333  11899.466667   \n",
       "3        3  3.000000   4.500000   9.000000    3748.000000   8597.500000   \n",
       "4        4  2.746151   2.380459   6.379516    1529.458687   5305.921772   \n",
       "5        5  4.206897   5.655172  10.586207    4730.827586  15120.551724   \n",
       "6        6  3.496124   4.480620   9.201550    3275.848837   7749.031008   \n",
       "7        7  2.547935   1.842667   5.564784    1228.406028   5547.359279   \n",
       "\n",
       "     yearBuilt  priorSaleAmount  \n",
       "0  1930.862953     1.030708e+04  \n",
       "1  1927.998209     5.329720e+05  \n",
       "2  1974.240000     1.913499e+06  \n",
       "3  1998.000000     1.375006e+07  \n",
       "4  1923.191957     3.239376e+05  \n",
       "5  1956.689655     3.246791e+06  \n",
       "6  1958.678295     9.853971e+05  \n",
       "7  1929.483626     1.706972e+05  "
      ],
      "text/html": "<div>\n<style scoped>\n    .dataframe tbody tr th:only-of-type {\n        vertical-align: middle;\n    }\n\n    .dataframe tbody tr th {\n        vertical-align: top;\n    }\n\n    .dataframe thead th {\n        text-align: right;\n    }\n</style>\n<table border=\"1\" class=\"dataframe\">\n  <thead>\n    <tr style=\"text-align: right;\">\n      <th></th>\n      <th>cluster</th>\n      <th>bedrooms</th>\n      <th>bathrooms</th>\n      <th>rooms</th>\n      <th>squareFootage</th>\n      <th>lotSize</th>\n      <th>yearBuilt</th>\n      <th>priorSaleAmount</th>\n    </tr>\n  </thead>\n  <tbody>\n    <tr>\n      <th>0</th>\n      <td>0</td>\n      <td>2.685397</td>\n      <td>2.011271</td>\n      <td>6.013721</td>\n      <td>1470.267070</td>\n      <td>6038.964064</td>\n      <td>1930.862953</td>\n      <td>1.030708e+04</td>\n    </tr>\n    <tr>\n      <th>1</th>\n      <td>1</td>\n      <td>3.056401</td>\n      <td>3.148612</td>\n      <td>7.534467</td>\n      <td>2103.851388</td>\n      <td>6023.485228</td>\n      <td>1927.998209</td>\n      <td>5.329720e+05</td>\n    </tr>\n    <tr>\n      <th>2</th>\n      <td>2</td>\n      <td>3.520000</td>\n      <td>5.666667</td>\n      <td>10.333333</td>\n      <td>4426.133333</td>\n      <td>11899.466667</td>\n      <td>1974.240000</td>\n      <td>1.913499e+06</td>\n    </tr>\n    <tr>\n      <th>3</th>\n      <td>3</td>\n      <td>3.000000</td>\n      <td>4.500000</td>\n      <td>9.000000</td>\n      <td>3748.000000</td>\n      <td>8597.500000</td>\n      <td>1998.000000</td>\n      <td>1.375006e+07</td>\n    </tr>\n    <tr>\n      <th>4</th>\n      <td>4</td>\n      <td>2.746151</td>\n      <td>2.380459</td>\n      <td>6.379516</td>\n      <td>1529.458687</td>\n      <td>5305.921772</td>\n      <td>1923.191957</td>\n      <td>3.239376e+05</td>\n    </tr>\n    <tr>\n      <th>5</th>\n      <td>5</td>\n      <td>4.206897</td>\n      <td>5.655172</td>\n      <td>10.586207</td>\n      <td>4730.827586</td>\n      <td>15120.551724</td>\n      <td>1956.689655</td>\n      <td>3.246791e+06</td>\n    </tr>\n    <tr>\n      <th>6</th>\n      <td>6</td>\n      <td>3.496124</td>\n      <td>4.480620</td>\n      <td>9.201550</td>\n      <td>3275.848837</td>\n      <td>7749.031008</td>\n      <td>1958.678295</td>\n      <td>9.853971e+05</td>\n    </tr>\n    <tr>\n      <th>7</th>\n      <td>7</td>\n      <td>2.547935</td>\n      <td>1.842667</td>\n      <td>5.564784</td>\n      <td>1228.406028</td>\n      <td>5547.359279</td>\n      <td>1929.483626</td>\n      <td>1.706972e+05</td>\n    </tr>\n  </tbody>\n</table>\n</div>"
     },
     "metadata": {},
     "execution_count": 39
    }
   ],
   "source": [
    "# Try to get statistic based on the cluster\n",
    "\n",
    "# Get Label's mean value\n",
    "X.groupby('cluster').mean().reset_index()"
   ]
  },
  {
   "cell_type": "code",
   "execution_count": 47,
   "metadata": {},
   "outputs": [
    {
     "output_type": "execute_result",
     "data": {
      "text/plain": [
       "                  bathrooms  rooms  squareFootage  lotSize  yearBuilt  \\\n",
       "cluster bedrooms                                                        \n",
       "0       0               1.0    3.0          472.5   6110.0     1937.5   \n",
       "        1               1.0    4.0          724.5   4792.5     1922.0   \n",
       "        2               1.0    5.0          962.0   6220.0     1939.0   \n",
       "        3               2.0    6.0         1440.0   6200.0     1928.0   \n",
       "        4               3.0    8.0         2102.0   6240.0     1912.0   \n",
       "        5               3.0   10.0         2610.5   6250.0     1911.5   \n",
       "        6               4.0   11.0         3113.5   6266.5     1905.5   \n",
       "        7               4.5   12.0         3532.5   6446.5     1897.0   \n",
       "        8               3.5   14.0         4628.5   8314.5     1905.5   \n",
       "        9               5.0   15.0         5316.0   7812.0     1893.0   \n",
       "1       0               0.0    0.0         1584.0   5250.0     1974.0   \n",
       "        1               3.0    5.0         1235.0   5500.0     1949.0   \n",
       "        2               2.0    6.0         1318.0   5500.0     1924.0   \n",
       "        3               3.0    7.0         1965.0   5950.0     1922.0   \n",
       "        4               4.0    8.0         2523.0   6240.0     1913.0   \n",
       "        5               4.0   10.0         2787.0   6250.0     1910.0   \n",
       "        6               6.0   13.0         3947.0   6250.0     1907.0   \n",
       "        7               5.0   13.0         3968.5   6343.5     1902.0   \n",
       "        8               5.0   16.0         4068.0   6250.0     1896.0   \n",
       "        9               8.5   29.0         5379.5   7656.0     1895.0   \n",
       "        13             11.0   39.0         4929.0   6287.0     1930.0   \n",
       "2       1               4.0   10.0         3304.0   6250.0     1999.0   \n",
       "        2               5.0    8.5         3562.5   6250.0     2001.0   \n",
       "        3               6.0   10.0         4100.0   6250.0     2005.5   \n",
       "        4               6.0   10.0         4514.0  11800.0     1939.0   \n",
       "        5               6.0   12.0         5106.5  15000.0     1930.0   \n",
       "        6               8.0   11.0         5800.5  54500.0     2004.0   \n",
       "        7               8.0   16.0         7042.0  21300.0     1927.0   \n",
       "3       3               4.5    9.0         3748.0   8597.5     1998.0   \n",
       "4       1               2.0    4.5         1040.0   5775.0     1925.5   \n",
       "        2               2.0    5.0         1105.0   5460.0     1925.0   \n",
       "        3               2.0    6.0         1550.0   4700.0     1912.0   \n",
       "        4               3.0    8.0         2069.0   4760.0     1908.0   \n",
       "        5               3.0    9.0         2200.0   4690.0     1904.0   \n",
       "        6               5.0   11.0         2864.0   4760.0     1898.0   \n",
       "        7               4.0   13.0         2842.0   5562.5     1896.5   \n",
       "        8               4.0   15.0         3207.0   4884.0     1890.0   \n",
       "        9              11.0   21.0         4695.0   6254.0     1887.0   \n",
       "5       2               2.0    7.0         1280.0   5940.0     1925.0   \n",
       "        3               6.0    8.0         4341.0   6250.0     2002.5   \n",
       "        4               6.5   10.5         6381.5  16900.0     1970.5   \n",
       "        5               7.0   12.0         5905.0  26900.0     1929.0   \n",
       "        6               7.5   13.5         6624.0  24856.5     1948.0   \n",
       "        15              7.0   20.0         5637.0   8080.0     1898.0   \n",
       "6       1               3.0    7.0         2058.0   7440.0     1923.0   \n",
       "        2               4.0    8.0         2791.5   6090.0     1992.0   \n",
       "        3               4.0    9.0         2913.5   6250.0     1965.5   \n",
       "        4               4.0    9.0         3335.0   6560.0     1947.0   \n",
       "        5               5.0   10.0         3840.5   9875.0     1927.5   \n",
       "        6               5.5   11.5         5010.0   9930.0     1912.5   \n",
       "        7               8.0   21.0         5026.0   8750.0     1890.0   \n",
       "        8               8.0   13.0         4783.0   9375.0     1905.0   \n",
       "7       1               1.0    4.0          828.0   4430.0     1910.0   \n",
       "        2               2.0    5.0          952.0   6200.0     1940.0   \n",
       "        3               2.0    6.0         1306.0   6100.0     1942.0   \n",
       "        4               2.0    7.0         1784.0   5062.0     1910.0   \n",
       "        5               2.0    8.5         2150.5   5702.5     1905.0   \n",
       "        6               4.5   13.0         2763.5   5312.0     1901.5   \n",
       "        7               3.0   12.0         2773.0   6255.0     1899.0   \n",
       "        10              5.0   19.0         3970.0   6250.0     1912.0   \n",
       "\n",
       "                  priorSaleAmount  \n",
       "cluster bedrooms                   \n",
       "0       0                 32500.0  \n",
       "        1                     0.0  \n",
       "        2                     0.0  \n",
       "        3                     0.0  \n",
       "        4                     0.0  \n",
       "        5                     0.0  \n",
       "        6                     0.0  \n",
       "        7                     0.0  \n",
       "        8                     0.0  \n",
       "        9                     0.0  \n",
       "1       0                710000.0  \n",
       "        1                461000.0  \n",
       "        2                490000.0  \n",
       "        3                508100.0  \n",
       "        4                549000.0  \n",
       "        5                500000.0  \n",
       "        6                553000.0  \n",
       "        7                534950.0  \n",
       "        8                630000.0  \n",
       "        9                599000.0  \n",
       "        13               750000.0  \n",
       "2       1               1625000.0  \n",
       "        2               1837500.0  \n",
       "        3               1920000.0  \n",
       "        4               1850000.0  \n",
       "        5               1868800.5  \n",
       "        6               1825000.0  \n",
       "        7               2200000.0  \n",
       "3       3              13750055.0  \n",
       "4       1                297500.0  \n",
       "        2                312000.0  \n",
       "        3                320000.0  \n",
       "        4                335000.0  \n",
       "        5                330000.0  \n",
       "        6                339500.0  \n",
       "        7                343500.0  \n",
       "        8                389000.0  \n",
       "        9                310000.0  \n",
       "5       2               2902000.0  \n",
       "        3               3027500.0  \n",
       "        4               4362950.0  \n",
       "        5               3000000.0  \n",
       "        6               2860000.0  \n",
       "        15              5000000.0  \n",
       "6       1               1175000.0  \n",
       "        2                950000.0  \n",
       "        3                920000.0  \n",
       "        4                940000.0  \n",
       "        5                936500.0  \n",
       "        6                970250.0  \n",
       "        7                975000.0  \n",
       "        8                870000.0  \n",
       "7       1                161950.0  \n",
       "        2                168999.0  \n",
       "        3                175000.0  \n",
       "        4                180900.0  \n",
       "        5                160250.0  \n",
       "        6                168118.0  \n",
       "        7                175000.0  \n",
       "        10               238700.0  "
      ],
      "text/html": "<div>\n<style scoped>\n    .dataframe tbody tr th:only-of-type {\n        vertical-align: middle;\n    }\n\n    .dataframe tbody tr th {\n        vertical-align: top;\n    }\n\n    .dataframe thead th {\n        text-align: right;\n    }\n</style>\n<table border=\"1\" class=\"dataframe\">\n  <thead>\n    <tr style=\"text-align: right;\">\n      <th></th>\n      <th></th>\n      <th>bathrooms</th>\n      <th>rooms</th>\n      <th>squareFootage</th>\n      <th>lotSize</th>\n      <th>yearBuilt</th>\n      <th>priorSaleAmount</th>\n    </tr>\n    <tr>\n      <th>cluster</th>\n      <th>bedrooms</th>\n      <th></th>\n      <th></th>\n      <th></th>\n      <th></th>\n      <th></th>\n      <th></th>\n    </tr>\n  </thead>\n  <tbody>\n    <tr>\n      <th rowspan=\"10\" valign=\"top\">0</th>\n      <th>0</th>\n      <td>1.0</td>\n      <td>3.0</td>\n      <td>472.5</td>\n      <td>6110.0</td>\n      <td>1937.5</td>\n      <td>32500.0</td>\n    </tr>\n    <tr>\n      <th>1</th>\n      <td>1.0</td>\n      <td>4.0</td>\n      <td>724.5</td>\n      <td>4792.5</td>\n      <td>1922.0</td>\n      <td>0.0</td>\n    </tr>\n    <tr>\n      <th>2</th>\n      <td>1.0</td>\n      <td>5.0</td>\n      <td>962.0</td>\n      <td>6220.0</td>\n      <td>1939.0</td>\n      <td>0.0</td>\n    </tr>\n    <tr>\n      <th>3</th>\n      <td>2.0</td>\n      <td>6.0</td>\n      <td>1440.0</td>\n      <td>6200.0</td>\n      <td>1928.0</td>\n      <td>0.0</td>\n    </tr>\n    <tr>\n      <th>4</th>\n      <td>3.0</td>\n      <td>8.0</td>\n      <td>2102.0</td>\n      <td>6240.0</td>\n      <td>1912.0</td>\n      <td>0.0</td>\n    </tr>\n    <tr>\n      <th>5</th>\n      <td>3.0</td>\n      <td>10.0</td>\n      <td>2610.5</td>\n      <td>6250.0</td>\n      <td>1911.5</td>\n      <td>0.0</td>\n    </tr>\n    <tr>\n      <th>6</th>\n      <td>4.0</td>\n      <td>11.0</td>\n      <td>3113.5</td>\n      <td>6266.5</td>\n      <td>1905.5</td>\n      <td>0.0</td>\n    </tr>\n    <tr>\n      <th>7</th>\n      <td>4.5</td>\n      <td>12.0</td>\n      <td>3532.5</td>\n      <td>6446.5</td>\n      <td>1897.0</td>\n      <td>0.0</td>\n    </tr>\n    <tr>\n      <th>8</th>\n      <td>3.5</td>\n      <td>14.0</td>\n      <td>4628.5</td>\n      <td>8314.5</td>\n      <td>1905.5</td>\n      <td>0.0</td>\n    </tr>\n    <tr>\n      <th>9</th>\n      <td>5.0</td>\n      <td>15.0</td>\n      <td>5316.0</td>\n      <td>7812.0</td>\n      <td>1893.0</td>\n      <td>0.0</td>\n    </tr>\n    <tr>\n      <th rowspan=\"11\" valign=\"top\">1</th>\n      <th>0</th>\n      <td>0.0</td>\n      <td>0.0</td>\n      <td>1584.0</td>\n      <td>5250.0</td>\n      <td>1974.0</td>\n      <td>710000.0</td>\n    </tr>\n    <tr>\n      <th>1</th>\n      <td>3.0</td>\n      <td>5.0</td>\n      <td>1235.0</td>\n      <td>5500.0</td>\n      <td>1949.0</td>\n      <td>461000.0</td>\n    </tr>\n    <tr>\n      <th>2</th>\n      <td>2.0</td>\n      <td>6.0</td>\n      <td>1318.0</td>\n      <td>5500.0</td>\n      <td>1924.0</td>\n      <td>490000.0</td>\n    </tr>\n    <tr>\n      <th>3</th>\n      <td>3.0</td>\n      <td>7.0</td>\n      <td>1965.0</td>\n      <td>5950.0</td>\n      <td>1922.0</td>\n      <td>508100.0</td>\n    </tr>\n    <tr>\n      <th>4</th>\n      <td>4.0</td>\n      <td>8.0</td>\n      <td>2523.0</td>\n      <td>6240.0</td>\n      <td>1913.0</td>\n      <td>549000.0</td>\n    </tr>\n    <tr>\n      <th>5</th>\n      <td>4.0</td>\n      <td>10.0</td>\n      <td>2787.0</td>\n      <td>6250.0</td>\n      <td>1910.0</td>\n      <td>500000.0</td>\n    </tr>\n    <tr>\n      <th>6</th>\n      <td>6.0</td>\n      <td>13.0</td>\n      <td>3947.0</td>\n      <td>6250.0</td>\n      <td>1907.0</td>\n      <td>553000.0</td>\n    </tr>\n    <tr>\n      <th>7</th>\n      <td>5.0</td>\n      <td>13.0</td>\n      <td>3968.5</td>\n      <td>6343.5</td>\n      <td>1902.0</td>\n      <td>534950.0</td>\n    </tr>\n    <tr>\n      <th>8</th>\n      <td>5.0</td>\n      <td>16.0</td>\n      <td>4068.0</td>\n      <td>6250.0</td>\n      <td>1896.0</td>\n      <td>630000.0</td>\n    </tr>\n    <tr>\n      <th>9</th>\n      <td>8.5</td>\n      <td>29.0</td>\n      <td>5379.5</td>\n      <td>7656.0</td>\n      <td>1895.0</td>\n      <td>599000.0</td>\n    </tr>\n    <tr>\n      <th>13</th>\n      <td>11.0</td>\n      <td>39.0</td>\n      <td>4929.0</td>\n      <td>6287.0</td>\n      <td>1930.0</td>\n      <td>750000.0</td>\n    </tr>\n    <tr>\n      <th rowspan=\"7\" valign=\"top\">2</th>\n      <th>1</th>\n      <td>4.0</td>\n      <td>10.0</td>\n      <td>3304.0</td>\n      <td>6250.0</td>\n      <td>1999.0</td>\n      <td>1625000.0</td>\n    </tr>\n    <tr>\n      <th>2</th>\n      <td>5.0</td>\n      <td>8.5</td>\n      <td>3562.5</td>\n      <td>6250.0</td>\n      <td>2001.0</td>\n      <td>1837500.0</td>\n    </tr>\n    <tr>\n      <th>3</th>\n      <td>6.0</td>\n      <td>10.0</td>\n      <td>4100.0</td>\n      <td>6250.0</td>\n      <td>2005.5</td>\n      <td>1920000.0</td>\n    </tr>\n    <tr>\n      <th>4</th>\n      <td>6.0</td>\n      <td>10.0</td>\n      <td>4514.0</td>\n      <td>11800.0</td>\n      <td>1939.0</td>\n      <td>1850000.0</td>\n    </tr>\n    <tr>\n      <th>5</th>\n      <td>6.0</td>\n      <td>12.0</td>\n      <td>5106.5</td>\n      <td>15000.0</td>\n      <td>1930.0</td>\n      <td>1868800.5</td>\n    </tr>\n    <tr>\n      <th>6</th>\n      <td>8.0</td>\n      <td>11.0</td>\n      <td>5800.5</td>\n      <td>54500.0</td>\n      <td>2004.0</td>\n      <td>1825000.0</td>\n    </tr>\n    <tr>\n      <th>7</th>\n      <td>8.0</td>\n      <td>16.0</td>\n      <td>7042.0</td>\n      <td>21300.0</td>\n      <td>1927.0</td>\n      <td>2200000.0</td>\n    </tr>\n    <tr>\n      <th>3</th>\n      <th>3</th>\n      <td>4.5</td>\n      <td>9.0</td>\n      <td>3748.0</td>\n      <td>8597.5</td>\n      <td>1998.0</td>\n      <td>13750055.0</td>\n    </tr>\n    <tr>\n      <th rowspan=\"9\" valign=\"top\">4</th>\n      <th>1</th>\n      <td>2.0</td>\n      <td>4.5</td>\n      <td>1040.0</td>\n      <td>5775.0</td>\n      <td>1925.5</td>\n      <td>297500.0</td>\n    </tr>\n    <tr>\n      <th>2</th>\n      <td>2.0</td>\n      <td>5.0</td>\n      <td>1105.0</td>\n      <td>5460.0</td>\n      <td>1925.0</td>\n      <td>312000.0</td>\n    </tr>\n    <tr>\n      <th>3</th>\n      <td>2.0</td>\n      <td>6.0</td>\n      <td>1550.0</td>\n      <td>4700.0</td>\n      <td>1912.0</td>\n      <td>320000.0</td>\n    </tr>\n    <tr>\n      <th>4</th>\n      <td>3.0</td>\n      <td>8.0</td>\n      <td>2069.0</td>\n      <td>4760.0</td>\n      <td>1908.0</td>\n      <td>335000.0</td>\n    </tr>\n    <tr>\n      <th>5</th>\n      <td>3.0</td>\n      <td>9.0</td>\n      <td>2200.0</td>\n      <td>4690.0</td>\n      <td>1904.0</td>\n      <td>330000.0</td>\n    </tr>\n    <tr>\n      <th>6</th>\n      <td>5.0</td>\n      <td>11.0</td>\n      <td>2864.0</td>\n      <td>4760.0</td>\n      <td>1898.0</td>\n      <td>339500.0</td>\n    </tr>\n    <tr>\n      <th>7</th>\n      <td>4.0</td>\n      <td>13.0</td>\n      <td>2842.0</td>\n      <td>5562.5</td>\n      <td>1896.5</td>\n      <td>343500.0</td>\n    </tr>\n    <tr>\n      <th>8</th>\n      <td>4.0</td>\n      <td>15.0</td>\n      <td>3207.0</td>\n      <td>4884.0</td>\n      <td>1890.0</td>\n      <td>389000.0</td>\n    </tr>\n    <tr>\n      <th>9</th>\n      <td>11.0</td>\n      <td>21.0</td>\n      <td>4695.0</td>\n      <td>6254.0</td>\n      <td>1887.0</td>\n      <td>310000.0</td>\n    </tr>\n    <tr>\n      <th rowspan=\"6\" valign=\"top\">5</th>\n      <th>2</th>\n      <td>2.0</td>\n      <td>7.0</td>\n      <td>1280.0</td>\n      <td>5940.0</td>\n      <td>1925.0</td>\n      <td>2902000.0</td>\n    </tr>\n    <tr>\n      <th>3</th>\n      <td>6.0</td>\n      <td>8.0</td>\n      <td>4341.0</td>\n      <td>6250.0</td>\n      <td>2002.5</td>\n      <td>3027500.0</td>\n    </tr>\n    <tr>\n      <th>4</th>\n      <td>6.5</td>\n      <td>10.5</td>\n      <td>6381.5</td>\n      <td>16900.0</td>\n      <td>1970.5</td>\n      <td>4362950.0</td>\n    </tr>\n    <tr>\n      <th>5</th>\n      <td>7.0</td>\n      <td>12.0</td>\n      <td>5905.0</td>\n      <td>26900.0</td>\n      <td>1929.0</td>\n      <td>3000000.0</td>\n    </tr>\n    <tr>\n      <th>6</th>\n      <td>7.5</td>\n      <td>13.5</td>\n      <td>6624.0</td>\n      <td>24856.5</td>\n      <td>1948.0</td>\n      <td>2860000.0</td>\n    </tr>\n    <tr>\n      <th>15</th>\n      <td>7.0</td>\n      <td>20.0</td>\n      <td>5637.0</td>\n      <td>8080.0</td>\n      <td>1898.0</td>\n      <td>5000000.0</td>\n    </tr>\n    <tr>\n      <th rowspan=\"8\" valign=\"top\">6</th>\n      <th>1</th>\n      <td>3.0</td>\n      <td>7.0</td>\n      <td>2058.0</td>\n      <td>7440.0</td>\n      <td>1923.0</td>\n      <td>1175000.0</td>\n    </tr>\n    <tr>\n      <th>2</th>\n      <td>4.0</td>\n      <td>8.0</td>\n      <td>2791.5</td>\n      <td>6090.0</td>\n      <td>1992.0</td>\n      <td>950000.0</td>\n    </tr>\n    <tr>\n      <th>3</th>\n      <td>4.0</td>\n      <td>9.0</td>\n      <td>2913.5</td>\n      <td>6250.0</td>\n      <td>1965.5</td>\n      <td>920000.0</td>\n    </tr>\n    <tr>\n      <th>4</th>\n      <td>4.0</td>\n      <td>9.0</td>\n      <td>3335.0</td>\n      <td>6560.0</td>\n      <td>1947.0</td>\n      <td>940000.0</td>\n    </tr>\n    <tr>\n      <th>5</th>\n      <td>5.0</td>\n      <td>10.0</td>\n      <td>3840.5</td>\n      <td>9875.0</td>\n      <td>1927.5</td>\n      <td>936500.0</td>\n    </tr>\n    <tr>\n      <th>6</th>\n      <td>5.5</td>\n      <td>11.5</td>\n      <td>5010.0</td>\n      <td>9930.0</td>\n      <td>1912.5</td>\n      <td>970250.0</td>\n    </tr>\n    <tr>\n      <th>7</th>\n      <td>8.0</td>\n      <td>21.0</td>\n      <td>5026.0</td>\n      <td>8750.0</td>\n      <td>1890.0</td>\n      <td>975000.0</td>\n    </tr>\n    <tr>\n      <th>8</th>\n      <td>8.0</td>\n      <td>13.0</td>\n      <td>4783.0</td>\n      <td>9375.0</td>\n      <td>1905.0</td>\n      <td>870000.0</td>\n    </tr>\n    <tr>\n      <th rowspan=\"8\" valign=\"top\">7</th>\n      <th>1</th>\n      <td>1.0</td>\n      <td>4.0</td>\n      <td>828.0</td>\n      <td>4430.0</td>\n      <td>1910.0</td>\n      <td>161950.0</td>\n    </tr>\n    <tr>\n      <th>2</th>\n      <td>2.0</td>\n      <td>5.0</td>\n      <td>952.0</td>\n      <td>6200.0</td>\n      <td>1940.0</td>\n      <td>168999.0</td>\n    </tr>\n    <tr>\n      <th>3</th>\n      <td>2.0</td>\n      <td>6.0</td>\n      <td>1306.0</td>\n      <td>6100.0</td>\n      <td>1942.0</td>\n      <td>175000.0</td>\n    </tr>\n    <tr>\n      <th>4</th>\n      <td>2.0</td>\n      <td>7.0</td>\n      <td>1784.0</td>\n      <td>5062.0</td>\n      <td>1910.0</td>\n      <td>180900.0</td>\n    </tr>\n    <tr>\n      <th>5</th>\n      <td>2.0</td>\n      <td>8.5</td>\n      <td>2150.5</td>\n      <td>5702.5</td>\n      <td>1905.0</td>\n      <td>160250.0</td>\n    </tr>\n    <tr>\n      <th>6</th>\n      <td>4.5</td>\n      <td>13.0</td>\n      <td>2763.5</td>\n      <td>5312.0</td>\n      <td>1901.5</td>\n      <td>168118.0</td>\n    </tr>\n    <tr>\n      <th>7</th>\n      <td>3.0</td>\n      <td>12.0</td>\n      <td>2773.0</td>\n      <td>6255.0</td>\n      <td>1899.0</td>\n      <td>175000.0</td>\n    </tr>\n    <tr>\n      <th>10</th>\n      <td>5.0</td>\n      <td>19.0</td>\n      <td>3970.0</td>\n      <td>6250.0</td>\n      <td>1912.0</td>\n      <td>238700.0</td>\n    </tr>\n  </tbody>\n</table>\n</div>"
     },
     "metadata": {},
     "execution_count": 47
    }
   ],
   "source": [
    "# Get Label's max max\n",
    "X.groupby(['cluster','bedrooms']).median()"
   ]
  },
  {
   "cell_type": "code",
   "execution_count": null,
   "metadata": {},
   "outputs": [],
   "source": [
    "# Note\n",
    "# 1. Need to know how to validate cluster number\n",
    "# 2. Need to know how to read data from cluster number\n",
    "# 3. Need to know how to use silhouette_score and its alternative"
   ]
  }
 ]
}